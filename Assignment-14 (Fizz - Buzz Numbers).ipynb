{
 "cells": [
  {
   "cell_type": "markdown",
   "id": "274e487e",
   "metadata": {},
   "source": [
    "Task : Print the Fizz Buzz numbers.\n",
    "\n",
    " Fizz Buzz is a famous code challenge used in interviews to test basic programming skills. It's time to write your own implementation.\n",
    " Print numbers from 1 to 100 inclusively following these instructions:\n",
    "if a number is multiple of 3, print \"Fizz\" instead of this number,\n",
    "if a number is multiple of 5, print \"Buzz\" instead of this number,\n",
    "for numbers that are multiples of both 3 and 5, print \"FizzBuzz\",\n",
    "print the rest of the numbers unchanged.\n",
    " Output each value on a separate line."
   ]
  },
  {
   "cell_type": "code",
   "execution_count": null,
   "id": "5a2e3a81",
   "metadata": {},
   "outputs": [],
   "source": [
    "for i in range(1,101):\n",
    "    if i %3 == 0:\n",
    "        print(\"Fizz\")\n",
    "    elif i %5 == 0:\n",
    "        print(\"Buzz\")\n",
    "    elif i %15 == 0:\n",
    "        print(\"FizzBuzz\")\n",
    "    else:\n",
    "        print(i)"
   ]
  }
 ],
 "metadata": {
  "kernelspec": {
   "display_name": "Python 3 (ipykernel)",
   "language": "python",
   "name": "python3"
  },
  "language_info": {
   "codemirror_mode": {
    "name": "ipython",
    "version": 3
   },
   "file_extension": ".py",
   "mimetype": "text/x-python",
   "name": "python",
   "nbconvert_exporter": "python",
   "pygments_lexer": "ipython3",
   "version": "3.9.7"
  }
 },
 "nbformat": 4,
 "nbformat_minor": 5
}
