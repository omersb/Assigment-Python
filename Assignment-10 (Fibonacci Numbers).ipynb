{
 "cells": [
  {
   "cell_type": "markdown",
   "id": "cf397c62",
   "metadata": {},
   "source": [
    "Task : Create a list consisting of Fibonacci numbers from 1 to 55 using control flow statements and range() function.\n",
    "\n",
    "The desired output is like this:\n",
    "\n",
    "fibonacci →  [1, 1, 2, 3, 5, 8, 13, 21, 34, 55]"
   ]
  },
  {
   "cell_type": "code",
   "execution_count": null,
   "id": "053a1bfc",
   "metadata": {},
   "outputs": [],
   "source": [
    "# Answer-1\n",
    "fibonacci = []\n",
    "sum = 0\n",
    "for i in range(10) :\n",
    "    if i == 0 :\n",
    "        fibonacci.append(1)\n",
    "    \n",
    "    elif i == 1 :\n",
    "        fibonacci.append(1)\n",
    "    \n",
    "    else:\n",
    "        fibonacci.append((fibonacci[i-1]+fibonacci[i-2]))\n",
    "            \n",
    "print(fibonacci)"
   ]
  },
  {
   "cell_type": "code",
   "execution_count": null,
   "id": "c1d2a86f",
   "metadata": {},
   "outputs": [],
   "source": [
    "# Answer-2\n",
    "fibonacci = [1, 1]\n",
    "n = 0\n",
    "while fibonacci[n] in list(range(1, 56)):\n",
    "    fibonacci.append(fibonacci[n] + fibonacci[n+1])\n",
    "    n += 1\n",
    "    if fibonacci[-1] == 55:\n",
    "        break\n",
    "    \n",
    "print(fibonacci)"
   ]
  }
 ],
 "metadata": {
  "kernelspec": {
   "display_name": "Python 3 (ipykernel)",
   "language": "python",
   "name": "python3"
  },
  "language_info": {
   "codemirror_mode": {
    "name": "ipython",
    "version": 3
   },
   "file_extension": ".py",
   "mimetype": "text/x-python",
   "name": "python",
   "nbconvert_exporter": "python",
   "pygments_lexer": "ipython3",
   "version": "3.9.7"
  }
 },
 "nbformat": 4,
 "nbformat_minor": 5
}
