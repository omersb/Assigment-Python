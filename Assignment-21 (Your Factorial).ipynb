{
 "cells": [
  {
   "cell_type": "markdown",
   "id": "b4d996e8",
   "metadata": {},
   "source": [
    "Define a function named my_fact to calculate factorial of the given number. Given a non-negative integer return the factorial of the integer.\n",
    "\n",
    "(Example: The factorial of 5 is: 5*4*3*2*1 = 120 and factorial of 0 is: 1)\n",
    "For example:\n",
    "\n",
    "Test\tResult\n",
    "print(my_fact(5))\n",
    "120\n",
    "print(my_fact(4))\n",
    "24\n",
    "print(my_fact(3))\n",
    "6"
   ]
  },
  {
   "cell_type": "code",
   "execution_count": 1,
   "id": "28c9fa76",
   "metadata": {},
   "outputs": [],
   "source": [
    "def my_fact(n):\n",
    "    sum = 1\n",
    "    for i in range(1,n+1):\n",
    "        sum *= i\n",
    "    return sum"
   ]
  }
 ],
 "metadata": {
  "kernelspec": {
   "display_name": "Python 3 (ipykernel)",
   "language": "python",
   "name": "python3"
  },
  "language_info": {
   "codemirror_mode": {
    "name": "ipython",
    "version": 3
   },
   "file_extension": ".py",
   "mimetype": "text/x-python",
   "name": "python",
   "nbconvert_exporter": "python",
   "pygments_lexer": "ipython3",
   "version": "3.9.7"
  }
 },
 "nbformat": 4,
 "nbformat_minor": 5
}
