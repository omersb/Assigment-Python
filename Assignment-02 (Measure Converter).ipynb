{
 "cells": [
  {
   "cell_type": "markdown",
   "id": "b226f354",
   "metadata": {},
   "source": [
    "Task-1:\n",
    "\n",
    "Write a short Python program that asks the user to enter Celsius temperature (it can be a decimal number), converts the entered temperature into Fahrenheit degree and prints the result.\n",
    "\n",
    "Task-2:\n",
    "\n",
    "Write a short Python program that asks the user to enter a distance (it can be a decimal number) in kilometers, converts the entered distance into miles and prints the result."
   ]
  },
  {
   "cell_type": "code",
   "execution_count": null,
   "id": "543054f0",
   "metadata": {},
   "outputs": [],
   "source": [
    "#Task-1: Celcius değerini Fahreneita çevirme sorusu\n",
    "celcius = float(input(\"Lütfen Celcius derecesini girin: \"))\n",
    "fahrenait = 1.8 * celcius + 32 \n",
    "print(\"Fahrenait sonucu: \", fahrenait, \"F\")"
   ]
  },
  {
   "cell_type": "code",
   "execution_count": null,
   "id": "79a241ce",
   "metadata": {},
   "outputs": [],
   "source": [
    "#Task-2: Km değerini mile çevirme sorusu \n",
    "km = float(input(\"Lütfen kilometre değerini girin: \"))\n",
    "mil = km * 1.609344\n",
    "print(\"Mil değeri: \", mil ,\"km dir\")"
   ]
  }
 ],
 "metadata": {
  "kernelspec": {
   "display_name": "Python 3 (ipykernel)",
   "language": "python",
   "name": "python3"
  },
  "language_info": {
   "codemirror_mode": {
    "name": "ipython",
    "version": 3
   },
   "file_extension": ".py",
   "mimetype": "text/x-python",
   "name": "python",
   "nbconvert_exporter": "python",
   "pygments_lexer": "ipython3",
   "version": "3.9.7"
  }
 },
 "nbformat": 4,
 "nbformat_minor": 5
}
