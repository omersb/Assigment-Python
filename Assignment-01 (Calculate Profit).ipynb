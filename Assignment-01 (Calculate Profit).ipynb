{
 "cells": [
  {
   "cell_type": "markdown",
   "id": "28b9efcb",
   "metadata": {},
   "source": [
    "Problem : If you had deposited a coin on the cryptocurrency exchange that brought 7% fixed profit daily for a week, how much would your $1000 reach at the end of the 7th day? "
   ]
  },
  {
   "cell_type": "code",
   "execution_count": 1,
   "id": "e635c716",
   "metadata": {},
   "outputs": [
    {
     "name": "stdout",
     "output_type": "stream",
     "text": [
      "1605.7814764784307\n"
     ]
    }
   ],
   "source": [
    "a = 1000 # Ana paramız\n",
    "n = 7    # Faiz değeri\n",
    "t = 7    # Faiz süresi\n",
    "print( a * (1 + n / 100) ** t)"
   ]
  }
 ],
 "metadata": {
  "kernelspec": {
   "display_name": "Python 3 (ipykernel)",
   "language": "python",
   "name": "python3"
  },
  "language_info": {
   "codemirror_mode": {
    "name": "ipython",
    "version": 3
   },
   "file_extension": ".py",
   "mimetype": "text/x-python",
   "name": "python",
   "nbconvert_exporter": "python",
   "pygments_lexer": "ipython3",
   "version": "3.9.7"
  }
 },
 "nbformat": 4,
 "nbformat_minor": 5
}
