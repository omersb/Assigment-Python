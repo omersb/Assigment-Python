{
 "cells": [
  {
   "cell_type": "markdown",
   "metadata": {},
   "source": [
    "Task : Find out if the given word is \"comfortable words\" in relation to the ten-finger keyboard use.\n",
    "\n",
    "A comfortable word is a word which you can type always alternating the hand you type with (assuming you type using a Q-keyboard and use of the ten-fingers standard).\n",
    "The word will always be a string consisting of only letters from a to z.\n",
    "Write a program which returns True if it's a comfortable word or False otherwise.\n",
    "Examples\n",
    "Given  word\tDesired Output (explanation)\n",
    "tester\tFalse (uses only left-hand fingers)*\n",
    "polly\tFalse (uses only right-hand fingers)*\n",
    "clarusway\tTrue (uses both hand fingers)*Note : Do a quick research on ten-fingers keyboard usage. (*) the explanation doesn't need to be in the output."
   ]
  },
  {
   "cell_type": "code",
   "execution_count": 1,
   "metadata": {},
   "outputs": [
    {
     "name": "stdout",
     "output_type": "stream",
     "text": [
      "'' is not comfortable.\n"
     ]
    }
   ],
   "source": [
    "left = set(\"qwertasdfgzxcvb\")\n",
    "right = set(\"yuophjklnm\")\n",
    "\n",
    "word1 = input(\"write a word :\")\n",
    "word = set(word1)\n",
    "\n",
    "leftcheck = bool(word.intersection(left))\n",
    "rightcheck = bool(word.intersection(right))\n",
    "\n",
    "result = leftcheck and rightcheck\n",
    "if result:\n",
    "    print(f\"'{word1}' is comfortable.\")\n",
    "else: \n",
    "    print(f\"'{word1}' is not comfortable.\")"
   ]
  }
 ],
 "metadata": {
  "interpreter": {
   "hash": "5936ff54a4d49d2308b344f3c2a64b57d1f7404a2630d1e24fcfdb35e60db818"
  },
  "kernelspec": {
   "display_name": "Python 3.10.3 64-bit",
   "language": "python",
   "name": "python3"
  },
  "language_info": {
   "codemirror_mode": {
    "name": "ipython",
    "version": 3
   },
   "file_extension": ".py",
   "mimetype": "text/x-python",
   "name": "python",
   "nbconvert_exporter": "python",
   "pygments_lexer": "ipython3",
   "version": "3.10.3"
  },
  "orig_nbformat": 4
 },
 "nbformat": 4,
 "nbformat_minor": 2
}
