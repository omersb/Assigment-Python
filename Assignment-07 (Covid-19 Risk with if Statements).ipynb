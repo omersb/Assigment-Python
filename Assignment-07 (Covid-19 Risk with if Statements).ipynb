{
 "cells": [
  {
   "cell_type": "markdown",
   "metadata": {},
   "source": [
    "Problem :\n",
    "\n",
    "Task : Estimating the risk of death from coronavirus. Write a program that;\n",
    "\n",
    "Takes \"Yes\" or \"No\" from the user as an answer to the following questions :\n",
    "\n",
    "Are you a cigarette addict older than 75 years old? Variable → age\n",
    "\n",
    "Do you have a severe chronic disease? Variable → chronic\n",
    "\n",
    "Is your immune system too weak? Variable → immune\n",
    "\n",
    "Set a logical algorithm using boolean logic operators (and/or) and use if-statements with the given variables in order to print out us a message : \"You are in risky group\"(if True ) or \"You are not in risky group\" (if False).\n",
    "age =  # can be assigned only True/False\n",
    "chronic =  # can be assigned only True/False\n",
    "immune =  # can be assigned only True/False\n",
    "risk = ?"
   ]
  },
  {
   "cell_type": "code",
   "execution_count": null,
   "metadata": {},
   "outputs": [],
   "source": [
    "age = input(\"Are you a cigarette addict older than 75 years old?(Yes or No)\")\n",
    "\n",
    "if age == \"Yes\":\n",
    "    age = True\n",
    "else:\n",
    "    age = False\n",
    "\n",
    "chronic = input(\"Do you have a severe chronic disease?(Yes or No)\")\n",
    "\n",
    "if chronic == \"yes\":\n",
    "    chronic = True\n",
    "else:\n",
    "    chronic = False\n",
    "    \n",
    "immune = input(\"Is your immune system too weak?(Yes or No)\")\n",
    "\n",
    "if immune == \"yes\":\n",
    "    immune = True\n",
    "else:\n",
    "    immune = False\n",
    "\n",
    "risk = age and chronic and immune\n",
    "if risk == True:\n",
    "    print(\"You are in risky group\")\n",
    "elif risk == False:\n",
    "    print(\"You are not in risk group\")"
   ]
  }
 ],
 "metadata": {
  "interpreter": {
   "hash": "5936ff54a4d49d2308b344f3c2a64b57d1f7404a2630d1e24fcfdb35e60db818"
  },
  "kernelspec": {
   "display_name": "Python 3.10.3 64-bit",
   "language": "python",
   "name": "python3"
  },
  "language_info": {
   "name": "python",
   "version": "3.10.3"
  },
  "orig_nbformat": 4
 },
 "nbformat": 4,
 "nbformat_minor": 2
}
