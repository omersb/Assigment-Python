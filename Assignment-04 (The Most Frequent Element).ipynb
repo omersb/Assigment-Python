{
 "cells": [
  {
   "cell_type": "markdown",
   "id": "d86e2d27",
   "metadata": {},
   "source": [
    "Task : Find out the most frequent number and its frequency.\n",
    "\n",
    "Write a program that;\n",
    "Finds out the most frequent number in the given list.\n",
    "Calculates its frequency.\n",
    "Prints out the result such as :\n",
    "Example\n",
    "Given list\tDesired Output\n",
    "numbers = [1, 3, 7, 4, 3, 0, 3, 6, 3]\n",
    "the most frequent number is 3 and it was 4 times repeatedNote : You may need to use useful/necessary built-in functions and list methods other than the functions we haven't covered in the lessons yet. "
   ]
  },
  {
   "cell_type": "code",
   "execution_count": 1,
   "id": "e3cde1a4",
   "metadata": {},
   "outputs": [
    {
     "name": "stdout",
     "output_type": "stream",
     "text": [
      "En çok tekrar eden sayı 3 'tir, Ve 4 defa tekrar eder. \n"
     ]
    }
   ],
   "source": [
    "numbers = [1, 3, 7, 4, 3, 0, 3, 6, 3]\n",
    "tekrar_say_liste = []\n",
    "\n",
    "for i in numbers:\n",
    "        tekrar_say_liste.append(numbers.count(i))     \n",
    "\n",
    "tekrar_say_liste.sort()\n",
    "max_freq = tekrar_say_liste[-1]\n",
    "\n",
    "for j in numbers :\n",
    "    if numbers.count(j) == max_freq:\n",
    "        tekraredensayı = j    \n",
    "\n",
    "print(\"En çok tekrar eden sayı {} 'tir, Ve {} defa tekrar eder. \".format(i,max_freq))"
   ]
  }
 ],
 "metadata": {
  "kernelspec": {
   "display_name": "Python 3 (ipykernel)",
   "language": "python",
   "name": "python3"
  },
  "language_info": {
   "codemirror_mode": {
    "name": "ipython",
    "version": 3
   },
   "file_extension": ".py",
   "mimetype": "text/x-python",
   "name": "python",
   "nbconvert_exporter": "python",
   "pygments_lexer": "ipython3",
   "version": "3.9.7"
  }
 },
 "nbformat": 4,
 "nbformat_minor": 5
}
