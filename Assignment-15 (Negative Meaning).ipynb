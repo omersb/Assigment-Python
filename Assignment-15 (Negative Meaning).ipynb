{
 "cells": [
  {
   "cell_type": "markdown",
   "id": "8d99107d",
   "metadata": {},
   "source": [
    "Define a function to take a word and return negative meaning.\n",
    "Given a word, return a new word where \"not \" has been added to the front. However, if the word already begins with \"not\", return the string unchanged.\n",
    "\n",
    "For example:\n",
    "\n",
    "Test\tResult\n",
    "print(not_string('sugar'))\n",
    "not sugar\n",
    "print(not_string('x'))\n",
    "not x\n",
    "print(not_string('not bad'))\n",
    "not bad"
   ]
  }
 ],
 "metadata": {
  "kernelspec": {
   "display_name": "Python 3 (ipykernel)",
   "language": "python",
   "name": "python3"
  },
  "language_info": {
   "codemirror_mode": {
    "name": "ipython",
    "version": 3
   },
   "file_extension": ".py",
   "mimetype": "text/x-python",
   "name": "python",
   "nbconvert_exporter": "python",
   "pygments_lexer": "ipython3",
   "version": "3.9.7"
  }
 },
 "nbformat": 4,
 "nbformat_minor": 5
}
