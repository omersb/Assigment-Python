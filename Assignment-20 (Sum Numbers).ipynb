{
 "cells": [
  {
   "cell_type": "markdown",
   "id": "505cd601",
   "metadata": {},
   "source": [
    "Define a function named my_sum to return the sum of all int type inputted numbers.\n",
    "For example:\n",
    "\n",
    "Test\tResult\n",
    "print(my_sum(9, 1, 3, 0, -1))\n",
    "12\n",
    "print(my_sum(5, 7, 4))\n",
    "16\n",
    "print(my_sum(10, -20, 30, 40))\n",
    "60"
   ]
  },
  {
   "cell_type": "code",
   "execution_count": null,
   "id": "99095ce5",
   "metadata": {},
   "outputs": [],
   "source": [
    "def my_sum(*x):\n",
    "    return sum(x)"
   ]
  }
 ],
 "metadata": {
  "kernelspec": {
   "display_name": "Python 3 (ipykernel)",
   "language": "python",
   "name": "python3"
  },
  "language_info": {
   "codemirror_mode": {
    "name": "ipython",
    "version": 3
   },
   "file_extension": ".py",
   "mimetype": "text/x-python",
   "name": "python",
   "nbconvert_exporter": "python",
   "pygments_lexer": "ipython3",
   "version": "3.9.7"
  }
 },
 "nbformat": 4,
 "nbformat_minor": 5
}
