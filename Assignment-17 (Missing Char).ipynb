{
 "cells": [
  {
   "cell_type": "markdown",
   "id": "ab991b07",
   "metadata": {},
   "source": [
    "Given a non-empty string and an int n, return a new string where the character at index n has been removed. The value of n will be a valid index of a character in the original string (i.e. n will be in the range 0....len(str)-1 inclusive).\n",
    "For example:\n",
    "\n",
    "Test\tResult\n",
    "print(missing_char('kitchen', 1))\n",
    "ktchen\n",
    "print(missing_char('kitchen', 0))\n",
    "itchen\n",
    "print(missing_char('kitchen', 4))\n",
    "kitcen"
   ]
  },
  {
   "cell_type": "code",
   "execution_count": 2,
   "id": "4c5288c4",
   "metadata": {},
   "outputs": [],
   "source": [
    "def missing_char(word, n):\n",
    "    char_list = []\n",
    "    for i in word:\n",
    "        char_list.append(i)\n",
    "    char_list.pop(n)\n",
    "    mis_char = \"\"\n",
    "    for i in char_list:\n",
    "        mis_char += i\n",
    "\n",
    "    return mis_char"
   ]
  }
 ],
 "metadata": {
  "kernelspec": {
   "display_name": "Python 3 (ipykernel)",
   "language": "python",
   "name": "python3"
  },
  "language_info": {
   "codemirror_mode": {
    "name": "ipython",
    "version": 3
   },
   "file_extension": ".py",
   "mimetype": "text/x-python",
   "name": "python",
   "nbconvert_exporter": "python",
   "pygments_lexer": "ipython3",
   "version": "3.9.7"
  }
 },
 "nbformat": 4,
 "nbformat_minor": 5
}
