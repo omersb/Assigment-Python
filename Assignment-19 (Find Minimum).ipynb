{
 "cells": [
  {
   "cell_type": "markdown",
   "id": "d8757c2f",
   "metadata": {},
   "source": [
    "Define a function named my_min to find the min of the inputted numbers.\n",
    "For example:\n",
    "\n",
    "Test\tResult\n",
    "print(my_min(5,6,7))\n",
    "5\n",
    "print(my_min(3,8,-9,0,12,1.2))\n",
    "-9\n",
    "print(my_min(-100))\n",
    "-100"
   ]
  },
  {
   "cell_type": "code",
   "execution_count": 2,
   "id": "932e681f",
   "metadata": {},
   "outputs": [],
   "source": [
    "def my_min(*x):\n",
    "    return min(x)"
   ]
  }
 ],
 "metadata": {
  "kernelspec": {
   "display_name": "Python 3 (ipykernel)",
   "language": "python",
   "name": "python3"
  },
  "language_info": {
   "codemirror_mode": {
    "name": "ipython",
    "version": 3
   },
   "file_extension": ".py",
   "mimetype": "text/x-python",
   "name": "python",
   "nbconvert_exporter": "python",
   "pygments_lexer": "ipython3",
   "version": "3.9.7"
  }
 },
 "nbformat": 4,
 "nbformat_minor": 5
}
