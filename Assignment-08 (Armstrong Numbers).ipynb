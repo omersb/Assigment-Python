{
 "cells": [
  {
   "cell_type": "markdown",
   "id": "9cefe557",
   "metadata": {},
   "source": [
    "Task:\n",
    "\n",
    "Find out if a given number is an \"Armstrong Number\".\n",
    "\n",
    "An n-digit number that is the sum of the nth powers of its digits is called an n-Armstrong number. Examples :\n",
    "371 = 33 + 73 + 13;\n",
    "9474 = 94 + 44 + 74 + 44;\n",
    "93084 = 95 + 35 + 05 + 85 + 45.\n",
    "\n",
    "Write a Python program that;\n",
    "takes a positive integer number from the user,\n",
    "checks the entered number if it is Armstrong,\n",
    "consider the negative, float and any entries other than numeric values then display a warning message to the user.\n",
    "\n",
    "Examples\n",
    "Sample inputs\tOutputs\n",
    "407\t407 is an Armstrong number\n",
    "5\t5 is an Armstrong number\n",
    " -153\t It is an invalid entry. Don't use non-numeric, float, or negative values!\n",
    " 153.87 or 153,87\t It is an invalid entry. Don't use non-numeric, float, or negative values!\n",
    " one\t It is an invalid entry. Don't use non-numeric, float, or negative values!\n",
    " 121\t 121 is not an Armstrong number"
   ]
  },
  {
   "cell_type": "code",
   "execution_count": null,
   "id": "fdb5ea4b",
   "metadata": {},
   "outputs": [],
   "source": [
    "number = input(\"Please enter an integer number: \")\n",
    "if number.isdigit():\n",
    "    leng = len(number)\n",
    "    listnum = list(number)\n",
    "    sum = 0\n",
    "    for i in range(leng):\n",
    "          sum = sum + int(listnum[i])**leng\n",
    "    if sum == int(number):\n",
    "        print(f\"{number} is an Armstrong number\")\n",
    "    else: \n",
    "        print(f\"{number} is not an Armstrong number\")\n",
    "    \n",
    "else:\n",
    "    print(\"It is an invalid entry. Don't use non-numeric, float, or negative values!\")"
   ]
  }
 ],
 "metadata": {
  "kernelspec": {
   "display_name": "Python 3 (ipykernel)",
   "language": "python",
   "name": "python3"
  },
  "language_info": {
   "codemirror_mode": {
    "name": "ipython",
    "version": 3
   },
   "file_extension": ".py",
   "mimetype": "text/x-python",
   "name": "python",
   "nbconvert_exporter": "python",
   "pygments_lexer": "ipython3",
   "version": "3.9.7"
  }
 },
 "nbformat": 4,
 "nbformat_minor": 5
}
