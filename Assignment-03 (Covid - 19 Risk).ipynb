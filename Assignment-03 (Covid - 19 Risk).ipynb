{
 "cells": [
  {
   "cell_type": "markdown",
   "id": "6fb06c53",
   "metadata": {},
   "source": [
    "Problem :\n",
    "\n",
    "Task : Estimating the risk of death from coronavirus.\n",
    "\n",
    "Consider the following questions in terms of True/False regarding anyone else.\n",
    "\n",
    "Are you a cigarette addict older than 75 years old? Variable → age\n",
    "\n",
    "Do you have a severe chronic disease? Variable → chronic\n",
    "\n",
    "Is your immune system too weak? Variable → immune\n",
    "\n",
    "Set a logical algorithm using boolean logic operators (and/or) and the given variables in order to give us True (there is a risk of death) or False (there is not a risk of death) as a result.\n",
    "age =  # can be assigned only True/False\n",
    "chronic =  # can be assigned only True/False\n",
    "immune =  # can be assigned only True/False\n",
    "risk = ? (True or False)"
   ]
  },
  {
   "cell_type": "code",
   "execution_count": 1,
   "id": "3ff56c3b",
   "metadata": {},
   "outputs": [
    {
     "name": "stdout",
     "output_type": "stream",
     "text": [
      "True\n"
     ]
    }
   ],
   "source": [
    "age = True\n",
    "chronic = True\n",
    "immune = True\n",
    "\n",
    "if age and chronic and immune:\n",
    "    risk = True\n",
    "else:\n",
    "    risk = False\n",
    "    \n",
    "print(risk)"
   ]
  }
 ],
 "metadata": {
  "kernelspec": {
   "display_name": "Python 3 (ipykernel)",
   "language": "python",
   "name": "python3"
  },
  "language_info": {
   "codemirror_mode": {
    "name": "ipython",
    "version": 3
   },
   "file_extension": ".py",
   "mimetype": "text/x-python",
   "name": "python",
   "nbconvert_exporter": "python",
   "pygments_lexer": "ipython3",
   "version": "3.9.7"
  }
 },
 "nbformat": 4,
 "nbformat_minor": 5
}
